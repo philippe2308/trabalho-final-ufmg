{
 "cells": [
  {
   "cell_type": "code",
   "execution_count": 1,
   "id": "e0a72771-9754-4de8-bf9b-d5ef4fbfa6a9",
   "metadata": {},
   "outputs": [],
   "source": [
    "from selenium import webdriver\n",
    "from webdriver_manager.chrome import ChromeDriverManager\n",
    "from selenium.webdriver.common.by import By\n",
    "from bs4 import BeautifulSoup\n",
    "import pandas as pd\n",
    "import pyarrow as pa\n",
    "import pyarrow.parquet as pq\n",
    "import time\n",
    "from selenium.webdriver.support import expected_conditions as EC\n",
    "from selenium.webdriver.support.ui import WebDriverWait\n"
   ]
  },
  {
   "cell_type": "code",
   "execution_count": 2,
   "id": "63c34da8-f838-49a8-a1b7-756d073d03b8",
   "metadata": {},
   "outputs": [],
   "source": [
    "driver = webdriver.Chrome()\n",
    "driver.get('https://www.linkedin.com/login')"
   ]
  },
  {
   "cell_type": "code",
   "execution_count": 5,
   "id": "a872c99e-fbcb-4e10-a54e-5ea218dbdec8",
   "metadata": {},
   "outputs": [],
   "source": [
    "driver.find_element('id','username').send_keys('matheus.ph.silva.23@gmail.com')\n",
    "driver.find_element('id','password').send_keys('ufmg2024')\n",
    "driver.find_element(By.XPATH, \"//button\").click()"
   ]
  },
  {
   "cell_type": "code",
   "execution_count": 26,
   "id": "b7f10181-7412-4624-a76c-78b17ee80905",
   "metadata": {},
   "outputs": [],
   "source": [
    "driver.get('https://www.linkedin.com/search/results/people/?geoUrn=%5B%22106057199%22%5D&keywords=software%20developer&network=%5B%22O%22%5D&origin=FACETED_SEARCH&pastCompany=%5B%224206%22%5D&sid=tdI')"
   ]
  },
  {
   "cell_type": "code",
   "execution_count": 27,
   "id": "0d5cebb9-a8c6-482f-9c0e-addbf31b599b",
   "metadata": {},
   "outputs": [
    {
     "name": "stdout",
     "output_type": "stream",
     "text": [
      "0\n",
      "1\n",
      "2\n",
      "3\n",
      "4\n",
      "5\n",
      "6\n",
      "7\n",
      "8\n",
      "9\n",
      "10\n",
      "11\n",
      "12\n",
      "13\n",
      "14\n",
      "15\n",
      "16\n",
      "17\n",
      "18\n",
      "19\n",
      "20\n",
      "21\n",
      "22\n",
      "23\n",
      "24\n",
      "25\n",
      "26\n",
      "27\n",
      "28\n",
      "29\n",
      "30\n",
      "31\n",
      "32\n",
      "33\n",
      "34\n",
      "35\n",
      "36\n",
      "37\n",
      "38\n",
      "39\n",
      "40\n",
      "41\n",
      "42\n",
      "43\n",
      "44\n",
      "45\n",
      "46\n",
      "47\n",
      "48\n",
      "49\n",
      "50\n",
      "51\n",
      "52\n",
      "53\n",
      "54\n",
      "55\n",
      "56\n",
      "57\n",
      "58\n",
      "59\n",
      "60\n",
      "61\n",
      "62\n",
      "63\n",
      "64\n",
      "65\n",
      "66\n",
      "67\n",
      "68\n",
      "69\n",
      "70\n",
      "71\n",
      "72\n",
      "73\n",
      "74\n",
      "75\n",
      "76\n",
      "77\n",
      "78\n",
      "79\n",
      "80\n",
      "81\n",
      "82\n",
      "83\n",
      "84\n",
      "85\n",
      "86\n",
      "87\n",
      "88\n",
      "89\n",
      "90\n",
      "91\n",
      "92\n",
      "93\n",
      "94\n",
      "95\n",
      "96\n",
      "97\n",
      "98\n",
      "99\n",
      "100\n",
      "667\n"
     ]
    }
   ],
   "source": [
    "page= 1\n",
    "publicProfilesUrl = []\n",
    "print(len(publicProfilesUrl))\n",
    "while True:\n",
    "    print(page)\n",
    "    driver.execute_script(\"window.scrollTo(0, document.body.scrollHeight);\")\n",
    "    time.sleep(1)\n",
    "    htmlPage = driver.page_source\n",
    "    site = BeautifulSoup(htmlPage)\n",
    "    profiles=site.find_all(\"li\",\"reusable-search__result-container\")\n",
    "    for profile in profiles:\n",
    "        if(len(profile.find_all(string=\"LinkedIn Member\"))==0):\n",
    "            publicProfilesUrl.append(profile.find('a','app-aware-link')['href'])\n",
    "    page+=1\n",
    "    goToNextPage = not site.find(\"button\", \"artdeco-pagination__button--next\").has_attr('disabled')\n",
    "    if not goToNextPage : \n",
    "        break\n",
    "    driver.find_element(By.CSS_SELECTOR, \".artdeco-pagination__button--next\").click()\n",
    "    element_present = EC.presence_of_element_located((By.CSS_SELECTOR, '.reusable-search__result-container'))\n",
    "    WebDriverWait(driver, 10).until(element_present)\n",
    "\n",
    "print(len(publicProfilesUrl))"
   ]
  },
  {
   "cell_type": "code",
   "execution_count": 28,
   "id": "5c4cc39c-9b63-472d-812b-bffaa623e428",
   "metadata": {},
   "outputs": [
    {
     "name": "stdout",
     "output_type": "stream",
     "text": [
      "667\n"
     ]
    }
   ],
   "source": [
    "profiles_schema = pa.schema([\n",
    "('url', pa.string()),\n",
    "])\n",
    "paProfiles = pa.array(publicProfilesUrl)\n",
    "batch = pa.RecordBatch.from_arrays(\n",
    "    [paProfiles],\n",
    "    names=profiles_schema.names\n",
    ")\n",
    "table = pa.Table.from_batches([batch])\n",
    "print(len(paProfiles))\n",
    "pq.write_table(table, './profiles-url-vivo.parquet')"
   ]
  },
  {
   "cell_type": "code",
   "execution_count": 29,
   "id": "9ed1e05e-8c0e-49dc-a201-06cf30e4991a",
   "metadata": {},
   "outputs": [
    {
     "name": "stdout",
     "output_type": "stream",
     "text": [
      "                                                   url\n",
      "0    https://www.linkedin.com/in/fabio-elias-filpi-...\n",
      "1    https://www.linkedin.com/in/alanpfabricio?mini...\n",
      "2    https://www.linkedin.com/in/jorge-santoro-230a...\n",
      "3    https://www.linkedin.com/in/gabrielcapanemahor...\n",
      "4    https://www.linkedin.com/in/ppederiva?miniProf...\n",
      "..                                                 ...\n",
      "662  https://www.linkedin.com/in/daniloalves?miniPr...\n",
      "663  https://www.linkedin.com/in/maria-santana-b847...\n",
      "664  https://www.linkedin.com/in/marceloabo?miniPro...\n",
      "665  https://www.linkedin.com/in/ronaldo-riccio-dos...\n",
      "666  https://www.linkedin.com/in/fabiane-frogeri-64...\n",
      "\n",
      "[667 rows x 1 columns]\n",
      "https://www.linkedin.com/in/alanpfabricio?miniProfileUrn=urn%3Ali%3Afs_miniProfile%3AACoAABKz900BG3pNaqN2GXpKjKPOXvF11uY1wx8\n"
     ]
    }
   ],
   "source": [
    "df = pq.read_table(source='./profiles-url-vivo.parquet').to_pandas()\n",
    "print(df)\n",
    "print(df['url'][1])"
   ]
  },
  {
   "cell_type": "code",
   "execution_count": 27,
   "id": "9150fa0b-fc70-4717-b375-098ee66eb337",
   "metadata": {},
   "outputs": [
    {
     "name": "stdout",
     "output_type": "stream",
     "text": [
      "https://www.linkedin.com/in/pedrohenrique-almeida47?miniProfileUrn=urn%3Ali%3Afs_miniProfile%3AACoAABvU6Z4BMcppz-B4GigCajjf3c8nkV_hgvY\n"
     ]
    }
   ],
   "source": []
  },
  {
   "cell_type": "code",
   "execution_count": null,
   "id": "7cf69b83-3287-4d94-bd9c-740bb0a8b532",
   "metadata": {},
   "outputs": [],
   "source": []
  }
 ],
 "metadata": {
  "kernelspec": {
   "display_name": "Python 3 (ipykernel)",
   "language": "python",
   "name": "python3"
  },
  "language_info": {
   "codemirror_mode": {
    "name": "ipython",
    "version": 3
   },
   "file_extension": ".py",
   "mimetype": "text/x-python",
   "name": "python",
   "nbconvert_exporter": "python",
   "pygments_lexer": "ipython3",
   "version": "3.12.3"
  }
 },
 "nbformat": 4,
 "nbformat_minor": 5
}
